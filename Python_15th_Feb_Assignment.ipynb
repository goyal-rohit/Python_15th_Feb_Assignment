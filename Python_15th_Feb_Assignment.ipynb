{
 "cells": [
  {
   "cell_type": "markdown",
   "id": "9653a9a5-255a-4ab7-b061-fdf081778209",
   "metadata": {},
   "source": [
    "Q1. What is multiprocessing in python? Why is it useful?"
   ]
  },
  {
   "cell_type": "markdown",
   "id": "8d01947d-71fb-4095-9e6a-4c81144da703",
   "metadata": {},
   "source": [
    "Multiprocessing is a way of achieving parallelism in Python by using multiple processes instead of multiple threads. Each process runs in its own memory space and has its own interpreter and Python virtual machine, which allows multiple CPU cores to be utilized simultaneously.\n",
    "\n",
    "The multiprocessing module in Python provides a simple and effective way of creating and managing child processes. It provides a Process class that represents a process and several functions for managing processes, such as start(), join(), and terminate().\n",
    "\n",
    "Multiprocessing is useful because it can help to improve the performance of CPU-bound tasks in Python. In Python, the Global Interpreter Lock (GIL) limits the concurrency of threaded programs, which can result in poor performance for CPU-bound tasks that require a lot of computational resources. By using multiple processes instead of multiple threads, multiprocessing can bypass the limitations of the GIL and take full advantage of multiple CPU cores."
   ]
  },
  {
   "cell_type": "markdown",
   "id": "8f97575c-366f-4b80-9be1-d28b52befff4",
   "metadata": {},
   "source": [
    "Q2. What are the differences between multiprocessing and multithreading?"
   ]
  },
  {
   "cell_type": "markdown",
   "id": "5d0d466c-27a9-48dd-99c9-bda12ce2ddb3",
   "metadata": {},
   "source": [
    "The main differences between multiprocessing and multithreading are:\n",
    "\n",
    "1. Execution: In multithreading, multiple threads run within the same process and share the same memory space, while in multiprocessing, multiple processes run in parallel and each process has its own memory space.\n",
    "\n",
    "2. Concurrency: Multithreading is suitable for I/O-bound tasks where multiple threads can run concurrently, while multiprocessing is suitable for CPU-bound tasks where multiple processes can run in parallel.\n",
    "\n",
    "3. Overhead: Multithreading has less overhead compared to multiprocessing, as creating and managing threads is less expensive than creating and managing processes.\n",
    "\n",
    "4. Scalability: Multiprocessing can scale better on multi-core CPUs, as each process can run on a separate core, while multithreading may not scale as efficiently due to the limitations of the Global Interpreter Lock (GIL) in Python.\n",
    "\n",
    "5. Complexity: Multithreading is generally considered easier to implement and debug than multiprocessing, as there are fewer issues related to shared memory and inter-process communication.\n",
    "\n",
    "In summary, the choice between multiprocessing and multithreading depends on the specific requirements of the task at hand, and factors such as the type of workload, the available hardware resources, and the programming complexity should be taken into account when making the decision."
   ]
  },
  {
   "cell_type": "markdown",
   "id": "c8749cb1-8518-4faf-9a38-7545872b084b",
   "metadata": {},
   "source": [
    "Q3. Write a python code to create a process using the multiprocessing module."
   ]
  },
  {
   "cell_type": "code",
   "execution_count": 1,
   "id": "5619938c-30b1-41fb-8153-5d913044f37a",
   "metadata": {},
   "outputs": [
    {
     "name": "stdout",
     "output_type": "stream",
     "text": [
      "this is my main prod\n",
      "this is my multiprocessing prog\n"
     ]
    }
   ],
   "source": [
    "import multiprocessing\n",
    "\n",
    "def test():\n",
    "    print(\"this is my multiprocessing prog\")\n",
    "\n",
    "if __name__ == \"__main__\":\n",
    "    m = multiprocessing.Process(target=test)\n",
    "    print(\"this is my main prod\")\n",
    "    m.start()\n",
    "    m.join()"
   ]
  },
  {
   "cell_type": "markdown",
   "id": "491565a2-e2ec-43dc-8d81-fcf283d7d6c0",
   "metadata": {},
   "source": [
    "Q4. What is a multiprocessing pool in python? Why is it used?"
   ]
  },
  {
   "cell_type": "markdown",
   "id": "c4e39fd4-aecf-4f7b-9a4b-8d222f0a7e50",
   "metadata": {},
   "source": [
    "A multiprocessing pool in Python is a convenient way to distribute work among multiple processes in a parallel and concurrent manner. It provides a high-level interface to manage a set of worker processes that can execute a given function on a set of input values in parallel.\n",
    "\n",
    "The main advantage of using a multiprocessing pool is that it allows us to take advantage of the multi-core CPUs and perform CPU-bound tasks more efficiently by spreading the workload among multiple processes. This can result in faster and more efficient execution times for tasks such as image processing, data analysis, and machine learning."
   ]
  },
  {
   "cell_type": "markdown",
   "id": "5b4e8b90-6ded-4a31-9084-76c4be499c96",
   "metadata": {},
   "source": [
    "Q5. How can we create a pool of worker processes in python using the multiprocessing module?"
   ]
  },
  {
   "cell_type": "code",
   "execution_count": 2,
   "id": "86b199a2-58af-4bfc-b6f8-0cc02e1a216c",
   "metadata": {},
   "outputs": [
    {
     "name": "stdout",
     "output_type": "stream",
     "text": [
      "[1, 4, 9, 16, 25, 36, 49, 64, 81, 0, 121, 144]\n"
     ]
    }
   ],
   "source": [
    "def sq(n):\n",
    "    return n**2\n",
    "if __name__ == '__main__':\n",
    "    with multiprocessing.Pool(processes=5) as pool:\n",
    "        out = pool.map(sq, [1,2,3,4,5,6,7,8,9,0,11,12])\n",
    "        print(out)"
   ]
  },
  {
   "cell_type": "markdown",
   "id": "5bd0b2de-fda1-42cd-acd9-b5fef96f24b3",
   "metadata": {},
   "source": [
    "Q6. Write a python program to create 4 processes, each process should print a different number using the multiprocessing module in python."
   ]
  },
  {
   "cell_type": "code",
   "execution_count": 4,
   "id": "56d5d08e-4120-4f6d-8d33-b101665646ee",
   "metadata": {},
   "outputs": [
    {
     "name": "stdout",
     "output_type": "stream",
     "text": [
      "Process Process-11 printed: 1\n",
      "Process Process-12 printed: 2\n",
      "Process Process-13 printed: 3\n",
      "Process Process-14 printed: 4\n"
     ]
    }
   ],
   "source": [
    "import multiprocessing\n",
    "\n",
    "def print_number(number):\n",
    "    print(f\"Process {multiprocessing.current_process().name} printed: {number}\")\n",
    "\n",
    "if __name__ == '__main__':\n",
    "    numbers = [1, 2, 3, 4]\n",
    "    processes = []\n",
    "    for number in numbers:\n",
    "        p = multiprocessing.Process(target=print_number, args=(number,))\n",
    "        processes.append(p)\n",
    "        p.start()\n",
    "\n",
    "    for p in processes:\n",
    "        p.join()\n"
   ]
  },
  {
   "cell_type": "code",
   "execution_count": null,
   "id": "bb480122-3398-4fe0-a40b-4fae0349b5f1",
   "metadata": {},
   "outputs": [],
   "source": []
  },
  {
   "cell_type": "code",
   "execution_count": null,
   "id": "2e033ad8-307c-4fb9-8c4a-a4e84ddeb362",
   "metadata": {},
   "outputs": [],
   "source": []
  }
 ],
 "metadata": {
  "kernelspec": {
   "display_name": "Python 3 (ipykernel)",
   "language": "python",
   "name": "python3"
  },
  "language_info": {
   "codemirror_mode": {
    "name": "ipython",
    "version": 3
   },
   "file_extension": ".py",
   "mimetype": "text/x-python",
   "name": "python",
   "nbconvert_exporter": "python",
   "pygments_lexer": "ipython3",
   "version": "3.10.8"
  }
 },
 "nbformat": 4,
 "nbformat_minor": 5
}
